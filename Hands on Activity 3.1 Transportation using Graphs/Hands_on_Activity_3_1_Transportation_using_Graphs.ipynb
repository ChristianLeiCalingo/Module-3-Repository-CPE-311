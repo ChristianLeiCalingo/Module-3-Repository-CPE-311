{
  "cells": [
    {
      "cell_type": "markdown",
      "id": "32f3b9e1",
      "metadata": {
        "id": "32f3b9e1"
      },
      "source": [
        "# Hands-on Activity 1.3 | Transportation using Graphs"
      ]
    },
    {
      "cell_type": "markdown",
      "id": "a51e92c8",
      "metadata": {
        "id": "a51e92c8"
      },
      "source": [
        "#### Objective(s):\n",
        "\n",
        "This activity aims to demonstrate how to solve transportation related problem using Graphs"
      ]
    },
    {
      "cell_type": "markdown",
      "id": "3d40df8b",
      "metadata": {
        "id": "3d40df8b"
      },
      "source": [
        "#### Intended Learning Outcomes (ILOs):\n",
        "* Demonstrate how to compute the shortest path from source to destination using graphs\n",
        "* Apply DFS and BFS to compute the shortest path"
      ]
    },
    {
      "cell_type": "markdown",
      "id": "ed8f98b6",
      "metadata": {
        "id": "ed8f98b6"
      },
      "source": [
        "#### Resources:\n",
        "* Jupyter Notebook"
      ]
    },
    {
      "cell_type": "markdown",
      "id": "36301665",
      "metadata": {
        "id": "36301665"
      },
      "source": [
        "#### Procedures:"
      ]
    },
    {
      "cell_type": "markdown",
      "id": "a2f20257",
      "metadata": {
        "id": "a2f20257"
      },
      "source": [
        "1. Create a Node class"
      ]
    },
    {
      "cell_type": "code",
      "execution_count": null,
      "id": "43c51c35",
      "metadata": {
        "id": "43c51c35"
      },
      "outputs": [],
      "source": [
        "class Node(object):\n",
        "    def __init__(self, name):\n",
        "        \"\"\"Assumes name is a string\"\"\"\n",
        "        self.name = name\n",
        "    def getName(self):\n",
        "        return self.name\n",
        "    def __str__(self):\n",
        "        return self.name"
      ]
    },
    {
      "cell_type": "markdown",
      "id": "d4cd747e",
      "metadata": {
        "id": "d4cd747e"
      },
      "source": [
        "2. Create an Edge class"
      ]
    },
    {
      "cell_type": "code",
      "execution_count": null,
      "id": "b585ad3a",
      "metadata": {
        "id": "b585ad3a"
      },
      "outputs": [],
      "source": [
        "class Edge(object):\n",
        "    def __init__(self, src, dest):\n",
        "        \"\"\"Assumes src and dest are nodes\"\"\"\n",
        "        self.src = src\n",
        "        self.dest = dest\n",
        "    def getSource(self):\n",
        "        return self.src\n",
        "    def getDestination(self):\n",
        "        return self.dest\n",
        "    def __str__(self):\n",
        "        return self.src.getName() + '->' + self.dest.getName()"
      ]
    },
    {
      "cell_type": "markdown",
      "id": "43fb73dd",
      "metadata": {
        "id": "43fb73dd"
      },
      "source": [
        "3. Create Digraph class that add nodes and edges"
      ]
    },
    {
      "cell_type": "code",
      "execution_count": null,
      "id": "68d3735b",
      "metadata": {
        "id": "68d3735b"
      },
      "outputs": [],
      "source": [
        "class Digraph(object):\n",
        "    \"\"\"edges is a dict mapping each node to a list of\n",
        "    its children\"\"\"\n",
        "    def __init__(self):\n",
        "        self.edges = {}\n",
        "    def addNode(self, node):\n",
        "        if node in self.edges:\n",
        "            raise ValueError('Duplicate node')\n",
        "        else:\n",
        "            self.edges[node] = []\n",
        "    def addEdge(self, edge):\n",
        "        src = edge.getSource()\n",
        "        dest = edge.getDestination()\n",
        "        if not (src in self.edges and dest in self.edges):\n",
        "            raise ValueError('Node not in graph')\n",
        "        self.edges[src].append(dest)\n",
        "    def childrenOf(self, node):\n",
        "        return self.edges[node]\n",
        "    def hasNode(self, node):\n",
        "        return node in self.edges\n",
        "    def getNode(self, name):\n",
        "        for n in self.edges:\n",
        "            if n.getName() == name:\n",
        "                return n\n",
        "        raise NameError(name)\n",
        "    def __str__(self):\n",
        "        result = ''\n",
        "        for src in self.edges:\n",
        "            for dest in self.edges[src]:\n",
        "                result = result + src.getName() + '->'\\\n",
        "                         + dest.getName() + '\\n'\n",
        "        return result[:-1] #omit final newline"
      ]
    },
    {
      "cell_type": "markdown",
      "id": "4df80036",
      "metadata": {
        "id": "4df80036"
      },
      "source": [
        "4. Create a Graph class from Digraph class that deifnes the destination and Source"
      ]
    },
    {
      "cell_type": "code",
      "execution_count": null,
      "id": "451f786f",
      "metadata": {
        "id": "451f786f"
      },
      "outputs": [],
      "source": [
        "class Graph(Digraph):\n",
        "    def addEdge(self, edge):\n",
        "        Digraph.addEdge(self, edge)\n",
        "        rev = Edge(edge.getDestination(), edge.getSource())\n",
        "        Digraph.addEdge(self, rev)"
      ]
    },
    {
      "cell_type": "markdown",
      "id": "a1834ccf",
      "metadata": {
        "id": "a1834ccf"
      },
      "source": [
        "5. Create a buildCityGraph method to add nodes (City) and edges   (source to destination)"
      ]
    },
    {
      "cell_type": "code",
      "execution_count": null,
      "id": "048f4f16",
      "metadata": {
        "id": "048f4f16"
      },
      "outputs": [],
      "source": [
        "def buildCityGraph(graphType):\n",
        "    g = graphType()\n",
        "    for name in ('Boston', 'Providence', 'New York', 'Chicago', 'Denver', 'Phoenix', 'Los Angeles'):\n",
        "        #Create 7 nodes\n",
        "        g.addNode(Node(name))\n",
        "    g.addEdge(Edge(g.getNode('Boston'), g.getNode('Providence')))\n",
        "    g.addEdge(Edge(g.getNode('Boston'), g.getNode('New York')))\n",
        "    g.addEdge(Edge(g.getNode('Providence'), g.getNode('Boston')))\n",
        "    g.addEdge(Edge(g.getNode('Providence'), g.getNode('New York')))\n",
        "    g.addEdge(Edge(g.getNode('New York'), g.getNode('Chicago')))\n",
        "    g.addEdge(Edge(g.getNode('Chicago'), g.getNode('Denver')))\n",
        "    g.addEdge(Edge(g.getNode('Denver'), g.getNode('Phoenix')))\n",
        "    g.addEdge(Edge(g.getNode('Denver'), g.getNode('New York')))\n",
        "    g.addEdge(Edge(g.getNode('Los Angeles'), g.getNode('Boston')))\n",
        "    return g"
      ]
    },
    {
      "cell_type": "code",
      "execution_count": null,
      "id": "8172d371",
      "metadata": {
        "id": "8172d371"
      },
      "outputs": [],
      "source": [
        "def printPath(path):\n",
        "    \"\"\"Assumes path is a list of nodes\"\"\"\n",
        "    result = ''\n",
        "    for i in range(len(path)):\n",
        "        result = result + str(path[i])\n",
        "        if i != len(path) - 1:\n",
        "            result = result + '->'\n",
        "    return result"
      ]
    },
    {
      "cell_type": "markdown",
      "id": "b5d8bbe4",
      "metadata": {
        "id": "b5d8bbe4"
      },
      "source": [
        "6. Create a method to define DFS technique"
      ]
    },
    {
      "cell_type": "code",
      "execution_count": null,
      "id": "019a8c61",
      "metadata": {
        "id": "019a8c61"
      },
      "outputs": [],
      "source": [
        "def DFS(graph, start, end, path, shortest, toPrint = False):\n",
        "    \"\"\"Assumes graph is a Digraph; start and end are nodes;\n",
        "          path and shortest are lists of nodes\n",
        "       Returns a shortest path from start to end in graph\"\"\"\n",
        "    path = path + [start]\n",
        "    if toPrint:\n",
        "        print('Current DFS path:', printPath(path))\n",
        "    if start == end:\n",
        "        return path\n",
        "    for node in graph.childrenOf(start):\n",
        "        if node not in path: #avoid cycles\n",
        "            if shortest == None or len(path) < len(shortest):\n",
        "                newPath = DFS(graph, node, end, path, shortest,\n",
        "                              toPrint)\n",
        "                if newPath != None:\n",
        "                    shortest = newPath\n",
        "        elif toPrint:\n",
        "            print('Already visited', node)\n",
        "    return shortest"
      ]
    },
    {
      "cell_type": "markdown",
      "id": "9457ef55",
      "metadata": {
        "id": "9457ef55"
      },
      "source": [
        "7. Define a shortestPath method to return the shortest path from source to destination using DFS"
      ]
    },
    {
      "cell_type": "code",
      "execution_count": null,
      "id": "e435e3ce",
      "metadata": {
        "id": "e435e3ce"
      },
      "outputs": [],
      "source": [
        "def shortestPath(graph, start, end, toPrint = False):\n",
        "    \"\"\"Assumes graph is a Digraph; start and end are nodes\n",
        "       Returns a shortest path from start to end in graph\"\"\"\n",
        "    return DFS(graph, start, end, [], None, toPrint)"
      ]
    },
    {
      "cell_type": "markdown",
      "id": "084a1713",
      "metadata": {
        "id": "084a1713"
      },
      "source": [
        "8. Create a method to test the shortest path method"
      ]
    },
    {
      "cell_type": "code",
      "execution_count": null,
      "id": "4ebad313",
      "metadata": {
        "id": "4ebad313"
      },
      "outputs": [],
      "source": [
        "def testSP(source, destination):\n",
        "    g = buildCityGraph(Digraph)\n",
        "    sp = shortestPath(g, g.getNode(source), g.getNode(destination),\n",
        "                      toPrint = True)\n",
        "    if sp != None:\n",
        "        print('Shortest path from', source, 'to',\n",
        "              destination, 'is', printPath(sp))\n",
        "    else:\n",
        "        print('There is no path from', source, 'to', destination)"
      ]
    },
    {
      "cell_type": "markdown",
      "id": "397fcad6",
      "metadata": {
        "id": "397fcad6"
      },
      "source": [
        "9. Execute the testSP method"
      ]
    },
    {
      "cell_type": "code",
      "execution_count": null,
      "id": "7b0da96e",
      "metadata": {
        "id": "7b0da96e",
        "outputId": "5dc98887-b91c-4846-b26a-bcb2eb37040c",
        "colab": {
          "base_uri": "https://localhost:8080/"
        }
      },
      "outputs": [
        {
          "output_type": "stream",
          "name": "stdout",
          "text": [
            "Current DFS path: Boston\n",
            "Current DFS path: Boston->Providence\n",
            "Already visited Boston\n",
            "Current DFS path: Boston->Providence->New York\n",
            "Current DFS path: Boston->Providence->New York->Chicago\n",
            "Current DFS path: Boston->Providence->New York->Chicago->Denver\n",
            "Current DFS path: Boston->Providence->New York->Chicago->Denver->Phoenix\n",
            "Already visited New York\n",
            "Current DFS path: Boston->New York\n",
            "Current DFS path: Boston->New York->Chicago\n",
            "Current DFS path: Boston->New York->Chicago->Denver\n",
            "Current DFS path: Boston->New York->Chicago->Denver->Phoenix\n",
            "Already visited New York\n",
            "Shortest path from Boston to Phoenix is Boston->New York->Chicago->Denver->Phoenix\n"
          ]
        }
      ],
      "source": [
        "testSP('Boston', 'Phoenix')"
      ]
    },
    {
      "cell_type": "markdown",
      "id": "be62a0ea",
      "metadata": {
        "id": "be62a0ea"
      },
      "source": [
        "##### Question:\n",
        "    \n",
        "Describe the DFS method to compute for the shortest path using the given sample codes"
      ]
    },
    {
      "cell_type": "markdown",
      "id": "cb6ecea8",
      "metadata": {
        "id": "cb6ecea8"
      },
      "source": [
        "DFS method compute its shortest path by traversing all the possible paths from the left side first. For example, in this graph, let's say that I want to go from Marikina to Manila. DFS Method will try to get all the nodes that was connected on its left side, in this case since we will start from Marikina, it will traverse all of the nodes connected to Quezon first before going to Pasig Node. Once all the nodes are explored, it will now include it inside a list and get the size of it, the list with the least size is considered as the shortest path."
      ]
    },
    {
      "cell_type": "markdown",
      "source": [
        "\n",
        "\n",
        "![image.png](data:image/png;base64,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)\n"
      ],
      "metadata": {
        "id": "HV8BThMdStBF"
      },
      "id": "HV8BThMdStBF"
    },
    {
      "cell_type": "markdown",
      "id": "7bec3a35",
      "metadata": {
        "id": "7bec3a35"
      },
      "source": [
        "10. Create a method to define BFS technique"
      ]
    },
    {
      "cell_type": "code",
      "execution_count": null,
      "id": "baddc3be",
      "metadata": {
        "id": "baddc3be"
      },
      "outputs": [],
      "source": [
        "def BFS(graph, start, end, toPrint = False):\n",
        "    \"\"\"Assumes graph is a Digraph; start and end are nodes\n",
        "       Returns a shortest path from start to end in graph\"\"\"\n",
        "    initPath = [start]\n",
        "    pathQueue = [initPath]\n",
        "    while len(pathQueue) != 0:\n",
        "        #Get and remove oldest element in pathQueue\n",
        "        tmpPath = pathQueue.pop(0)\n",
        "        if toPrint:\n",
        "            print('Current BFS path:', printPath(tmpPath))\n",
        "        lastNode = tmpPath[-1]\n",
        "        if lastNode == end:\n",
        "            return tmpPath\n",
        "        for nextNode in graph.childrenOf(lastNode):\n",
        "            if nextNode not in tmpPath:\n",
        "                newPath = tmpPath + [nextNode]\n",
        "                pathQueue.append(newPath)\n",
        "    return None"
      ]
    },
    {
      "cell_type": "markdown",
      "id": "050edf85",
      "metadata": {
        "id": "050edf85"
      },
      "source": [
        "11. Define a shortestPath method to return the shortest path from source to destination using DFS"
      ]
    },
    {
      "cell_type": "code",
      "execution_count": null,
      "id": "0a595716",
      "metadata": {
        "id": "0a595716"
      },
      "outputs": [],
      "source": [
        "def shortestPath(graph, start, end, toPrint = False):\n",
        "    \"\"\"Assumes graph is a Digraph; start and end are nodes\n",
        "       Returns a shortest path from start to end in graph\"\"\"\n",
        "    return BFS(graph, start, end, toPrint)"
      ]
    },
    {
      "cell_type": "markdown",
      "id": "abd00a05",
      "metadata": {
        "id": "abd00a05"
      },
      "source": [
        "12. Execute the testSP method"
      ]
    },
    {
      "cell_type": "code",
      "execution_count": null,
      "id": "a942ee6b",
      "metadata": {
        "id": "a942ee6b",
        "outputId": "a3b12099-c8a1-4b36-92bb-c5b32517ce5b"
      },
      "outputs": [
        {
          "name": "stdout",
          "output_type": "stream",
          "text": [
            "Current BFS path: Boston\n",
            "Current BFS path: Boston->Providence\n",
            "Current BFS path: Boston->New York\n",
            "Current BFS path: Boston->Providence->New York\n",
            "Current BFS path: Boston->New York->Chicago\n",
            "Current BFS path: Boston->Providence->New York->Chicago\n",
            "Current BFS path: Boston->New York->Chicago->Denver\n",
            "Current BFS path: Boston->Providence->New York->Chicago->Denver\n",
            "Current BFS path: Boston->New York->Chicago->Denver->Phoenix\n",
            "Shortest path from Boston to Phoenix is Boston->New York->Chicago->Denver->Phoenix\n"
          ]
        }
      ],
      "source": [
        "testSP('Boston', 'Phoenix')"
      ]
    },
    {
      "cell_type": "markdown",
      "id": "c7bbd794",
      "metadata": {
        "id": "c7bbd794"
      },
      "source": [
        "BFS Method of computation for the shortest path"
      ]
    },
    {
      "cell_type": "markdown",
      "source": [
        "BFS Method is a little bit different. In BFS method, it will traverse all of its children nodes first, then it will traverse through its grand children nodes and so on until it reaches its destination. In this case, after traversing to Quezon node, instead of traversing to the Quezon's children node of Quezon, it will traverse to its own children node first which is Pasig Node.\n",
        "BFS will continue to traverse until it reaches its destination.\n",
        "\n",
        "![image.png](data:image/png;base64,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)\n"
      ],
      "metadata": {
        "id": "UmZvJdV0qfHh"
      },
      "id": "UmZvJdV0qfHh"
    },
    {
      "cell_type": "markdown",
      "id": "287801ae",
      "metadata": {
        "id": "287801ae"
      },
      "source": [
        "#### Supplementary Activitiy\n",
        "* Use a specific location or city to solve transportation using graph\n",
        "* Use DFS and BFS methods to compute the shortest path\n",
        "* Display the shortest path from source to destination using DFS and BFS\n",
        "* Differentiate the performance of DFS from BFS"
      ]
    },
    {
      "cell_type": "markdown",
      "source": [
        "![image.png](data:image/png;base64,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)"
      ],
      "metadata": {
        "id": "gESWlhC-5JnF"
      },
      "id": "gESWlhC-5JnF"
    },
    {
      "cell_type": "markdown",
      "source": [
        "Above is a graph of place that is connected to each other. Each vertex is connected by an edge with an arrow which means that you can go to that node from that node. For example (Pateros has 2 edges, 1 from Makait and 1 from Pasig, if you want to go to Pateros, you have to get to Makait or Pasig first).\n",
        "\n",
        "\n",
        "Driver Man is a delivery man who travels for most of the places in the NCR (National Capital Region). Driver Man wants to identify which path would be the shortest so that Driver Man can save money on gasoline. However, due to maintenace of highways and roadways, some places doesn't have it's way back (For example, you can't return if you go to Valenzuela since there's is path to leave that node). Driver Man wants to deliver from Marikina to Manila using the shortest path, and want to return to Marikina from Manila using the shortest path also. The code below will show which cities is the best option for him to get the shortest path possible in order to save money on gasoline"
      ],
      "metadata": {
        "id": "sTDS3z505Lbj"
      },
      "id": "sTDS3z505Lbj"
    },
    {
      "cell_type": "markdown",
      "source": [
        "# **DFS METHOD**"
      ],
      "metadata": {
        "id": "K3iy0HnXYqEo"
      },
      "id": "K3iy0HnXYqEo"
    },
    {
      "cell_type": "code",
      "execution_count": null,
      "id": "b7e4231f",
      "metadata": {
        "id": "b7e4231f",
        "colab": {
          "base_uri": "https://localhost:8080/"
        },
        "outputId": "b5d4d058-505b-42b8-a606-e96c939ad2d9"
      },
      "outputs": [
        {
          "output_type": "stream",
          "name": "stdout",
          "text": [
            "Current DFS path: Marikina\n",
            "Current DFS path: Marikina->Quezon\n",
            "Current DFS path: Marikina->Quezon->Valenzuela\n",
            "Current DFS path: Marikina->Quezon->Manila\n",
            "Current DFS path: Marikina->Quezon->San Juan\n",
            "Current DFS path: Marikina->Pasig\n",
            "Already visited Marikina\n",
            "Current DFS path: Marikina->Pasig->Mandaluyong\n",
            "Already visited Pasig\n",
            "Current DFS path: Marikina->Pasig->Pateros\n",
            "Already visited Pasig\n",
            "Shortest path from Marikina to Manila is Marikina->Quezon->Manila\n",
            "----------------------------------------------------------------------------------------------------\n",
            "Now returning to Marikina from Manila\n",
            "----------------------------------------------------------------------------------------------------\n",
            "Current DFS path: Manila\n",
            "Current DFS path: Manila->Quezon\n",
            "Current DFS path: Manila->Quezon->Valenzuela\n",
            "Already visited Manila\n",
            "Current DFS path: Manila->Quezon->San Juan\n",
            "Current DFS path: Manila->Quezon->San Juan->Mandaluyong\n",
            "Already visited Manila\n",
            "Current DFS path: Manila->Quezon->San Juan->Mandaluyong->Pasig\n",
            "Current DFS path: Manila->Quezon->San Juan->Mandaluyong->Pasig->Marikina\n",
            "Already visited Mandaluyong\n",
            "Current DFS path: Manila->Quezon->San Juan->Mandaluyong->Pasig->Pateros\n",
            "Already visited Pasig\n",
            "Current DFS path: Manila->Quezon->San Juan->Mandaluyong->Makati\n",
            "Current DFS path: Manila->Quezon->San Juan->Mandaluyong->Makati->Pateros\n",
            "Current DFS path: Manila->Mandaluyong\n",
            "Already visited Manila\n",
            "Current DFS path: Manila->Mandaluyong->Pasig\n",
            "Current DFS path: Manila->Mandaluyong->Pasig->Marikina\n",
            "Already visited Mandaluyong\n",
            "Current DFS path: Manila->Mandaluyong->Pasig->Pateros\n",
            "Already visited Pasig\n",
            "Current DFS path: Manila->Mandaluyong->Makati\n",
            "Current DFS path: Manila->Mandaluyong->Makati->Pateros\n",
            "Shortest path from Manila to Marikina is Manila->Mandaluyong->Pasig->Marikina\n"
          ]
        }
      ],
      "source": [
        "class Node(object):\n",
        "    def __init__(self, name):\n",
        "        self.name = name #constructor for the node\n",
        "    def getName(self):\n",
        "        return self.name #naming the node\n",
        "    def __str__(self):\n",
        "        return self.name #returning the name of the node\n",
        "\n",
        "class Edge(object):\n",
        "    def __init__(self, src, dest):\n",
        "        self.src = src #constructor for the source node / starting location\n",
        "        self.dest = dest #constructor for the destination node / end location\n",
        "    def getSource(self):\n",
        "        return self.src\n",
        "    def getDestination(self):\n",
        "        return self.dest\n",
        "    def __str__(self):\n",
        "        return self.src.getName() + '->' + self.dest.getName()\n",
        "\n",
        "class Digraph(object):\n",
        "    def __init__(self):\n",
        "        self.edges = {}\n",
        "    def addNode(self, node): # adding nodes to the graph\n",
        "        if node in self.edges:\n",
        "            raise ValueError('Duplicate node')\n",
        "        else:\n",
        "            self.edges[node] = []\n",
        "    def addEdge(self, edge): #adding a path through the nodes\n",
        "        src = edge.getSource()\n",
        "        dest = edge.getDestination()\n",
        "        if not (src in self.edges and dest in self.edges):\n",
        "            raise ValueError('Location not in graph')\n",
        "        self.edges[src].append(dest)\n",
        "    def childrenOf(self, node): # identifying the parent node\n",
        "        return self.edges[node]\n",
        "    def hasNode(self, node): # identifying if the edge has a node connected to it\n",
        "        return node in self.edges\n",
        "    def getNode(self, name): # getting all the nodes connected to the edge\n",
        "        for n in self.edges:\n",
        "            if n.getName() == name:\n",
        "                return n\n",
        "        raise NameError(name)\n",
        "    def __str__(self):\n",
        "        result = ''\n",
        "        for src in self.edges:\n",
        "            for dest in self.edges[src]:\n",
        "                result = result + src.getName() + '->'\\\n",
        "                         + dest.getName() + '\\n'\n",
        "        return result[:-1]\n",
        "\n",
        "class Graph(Digraph):\n",
        "    def addEdge(self, edge): # adding a one way direction / directed route to the nodes\n",
        "        Digraph.addEdge(self, edge)\n",
        "        rev = Edge(edge.getDestination(), edge.getSource())\n",
        "        Digraph.addEdge(self, rev)\n",
        "\n",
        "def buildCityGraph(graphType): # connection of the nodes\n",
        "    g = graphType()\n",
        "    for name in ('Marikina', 'Pasig', 'Quezon', 'Pateros', 'Valenzuela', 'San Juan', 'Mandaluyong', 'Manila', 'Makati'):\n",
        "        g.addNode(Node(name))\n",
        "    g.addEdge(Edge(g.getNode('Marikina'), g.getNode('Quezon')))\n",
        "    g.addEdge(Edge(g.getNode('Marikina'), g.getNode('Pasig')))\n",
        "    g.addEdge(Edge(g.getNode('Pasig'), g.getNode('Marikina')))\n",
        "    g.addEdge(Edge(g.getNode('Pasig'), g.getNode('Mandaluyong')))\n",
        "    g.addEdge(Edge(g.getNode('Pasig'), g.getNode('Pateros')))\n",
        "    g.addEdge(Edge(g.getNode('Quezon'), g.getNode('Valenzuela')))\n",
        "    g.addEdge(Edge(g.getNode('Quezon'), g.getNode('Manila')))\n",
        "    g.addEdge(Edge(g.getNode('Quezon'), g.getNode('San Juan')))\n",
        "    g.addEdge(Edge(g.getNode('Pateros'), g.getNode('Pasig')))\n",
        "    g.addEdge(Edge(g.getNode('San Juan'), g.getNode('Mandaluyong')))\n",
        "    g.addEdge(Edge(g.getNode('Mandaluyong'), g.getNode('Manila')))\n",
        "    g.addEdge(Edge(g.getNode('Mandaluyong'), g.getNode('Pasig')))\n",
        "    g.addEdge(Edge(g.getNode('Mandaluyong'), g.getNode('Makati')))\n",
        "    g.addEdge(Edge(g.getNode('Manila'), g.getNode('Quezon')))\n",
        "    g.addEdge(Edge(g.getNode('Manila'), g.getNode('Mandaluyong')))\n",
        "    g.addEdge(Edge(g.getNode('Makati'), g.getNode('Pateros')))\n",
        "    return g\n",
        "\n",
        "def printPath(path):\n",
        "    result = ''\n",
        "    for i in range(len(path)):\n",
        "        result = result + str(path[i])\n",
        "        if i != len(path) - 1:\n",
        "            result = result + '->'\n",
        "    return result\n",
        "\n",
        "def DFS(graph, start, end, path, shortest, toPrint = False): #searching method\n",
        "    path = path + [start]\n",
        "    if toPrint:\n",
        "        print('Current DFS path:', printPath(path))\n",
        "    if start == end: #if the starting point and the destionation is same, return the path\n",
        "        return path\n",
        "    for node in graph.childrenOf(start):\n",
        "        if node not in path: #avoid cycles\n",
        "            if shortest == None or len(path) < len(shortest): #chaging the value of the newPath if its length is less\n",
        "                newPath = DFS(graph, node, end, path, shortest,\n",
        "                              toPrint)\n",
        "                if newPath != None:\n",
        "                    shortest = newPath\n",
        "        elif toPrint:\n",
        "            print('Already visited', node)\n",
        "    return shortest\n",
        "\n",
        "\n",
        "def shortestPath(graph, start, end, toPrint = False):\n",
        "    return DFS(graph, start, end, [], None, toPrint)\n",
        "\n",
        "\n",
        "def testSP(source, destination):\n",
        "    g = buildCityGraph(Digraph) #connection of the nodes\n",
        "    sp = shortestPath(g, g.getNode(source), g.getNode(destination), #identifying the fastest route\n",
        "                      toPrint = True)\n",
        "    if sp != None:\n",
        "        print('Shortest path from', source, 'to',\n",
        "              destination, 'is', printPath(sp))\n",
        "    else:\n",
        "        print('There is no path from', source, 'to', destination)\n",
        "\n",
        "\n",
        "testSP('Marikina','Manila')\n",
        "print('-'*100)\n",
        "print(\"Now returning to Marikina from Manila\")\n",
        "print('-'*100)\n",
        "testSP('Manila', 'Marikina')\n",
        "\n"
      ]
    },
    {
      "cell_type": "markdown",
      "source": [
        "## **BFS Method**"
      ],
      "metadata": {
        "id": "n3afGJkp9bil"
      },
      "id": "n3afGJkp9bil"
    },
    {
      "cell_type": "code",
      "execution_count": null,
      "id": "baecad6d",
      "metadata": {
        "id": "baecad6d",
        "colab": {
          "base_uri": "https://localhost:8080/"
        },
        "outputId": "99dfd453-6328-4099-dbff-e2cbbcb416e5"
      },
      "outputs": [
        {
          "output_type": "stream",
          "name": "stdout",
          "text": [
            "Current BFS path: Marikina\n",
            "Current BFS path: Marikina->Quezon\n",
            "Current BFS path: Marikina->Pasig\n",
            "Current BFS path: Marikina->Quezon->Valenzuela\n",
            "Current BFS path: Marikina->Quezon->Manila\n",
            "Shortest path from Marikina to Manila is Marikina->Quezon->Manila\n",
            "----------------------------------------------------------------------------------------------------\n",
            "Current BFS path: Manila\n",
            "Current BFS path: Manila->Quezon\n",
            "Current BFS path: Manila->Mandaluyong\n",
            "Current BFS path: Manila->Quezon->Valenzuela\n",
            "Current BFS path: Manila->Quezon->San Juan\n",
            "Current BFS path: Manila->Mandaluyong->Pasig\n",
            "Current BFS path: Manila->Mandaluyong->Makati\n",
            "Current BFS path: Manila->Quezon->San Juan->Mandaluyong\n",
            "Current BFS path: Manila->Mandaluyong->Pasig->Marikina\n",
            "Shortest path from Manila to Marikina is Manila->Mandaluyong->Pasig->Marikina\n"
          ]
        }
      ],
      "source": [
        "class Node(object):\n",
        "    def __init__(self, name):\n",
        "        self.name = name #constructor for the node\n",
        "    def getName(self):\n",
        "        return self.name #naming the node\n",
        "    def __str__(self):\n",
        "        return self.name #returning the name of the node\n",
        "\n",
        "class Edge(object):\n",
        "    def __init__(self, src, dest):\n",
        "        self.src = src #constructor for the source node / starting location\n",
        "        self.dest = dest #constructor for the destionation node / end location\n",
        "    def getSource(self):\n",
        "        return self.src\n",
        "    def getDestination(self):\n",
        "        return self.dest\n",
        "    def __str__(self):\n",
        "        return self.src.getName() + '->' + self.dest.getName()\n",
        "\n",
        "class Digraph(object):\n",
        "    def __init__(self):\n",
        "        self.edges = {}\n",
        "    def addNode(self, node):\n",
        "        if node in self.edges:\n",
        "            raise ValueError('Duplicate node')\n",
        "        else:\n",
        "            self.edges[node] = []\n",
        "    def addEdge(self, edge):\n",
        "        src = edge.getSource()\n",
        "        dest = edge.getDestination()\n",
        "        if not (src in self.edges and dest in self.edges):\n",
        "            raise ValueError('Location not in graph')\n",
        "        self.edges[src].append(dest)\n",
        "    def childrenOf(self, node):\n",
        "        return self.edges[node]\n",
        "    def hasNode(self, node):\n",
        "        return node in self.edges\n",
        "    def getNode(self, name):\n",
        "        for n in self.edges:\n",
        "            if n.getName() == name:\n",
        "                return n\n",
        "        raise NameError(name)\n",
        "    def __str__(self):\n",
        "        result = ''\n",
        "        for src in self.edges:\n",
        "            for dest in self.edges[src]:\n",
        "                result = result + src.getName() + '->'\\\n",
        "                         + dest.getName() + '\\n'\n",
        "        return result[:-1]\n",
        "\n",
        "class Graph(Digraph):\n",
        "    def addEdge(self, edge):\n",
        "        Digraph.addEdge(self, edge)\n",
        "        rev = Edge(edge.getDestination(), edge.getSource())\n",
        "        Digraph.addEdge(self, rev)\n",
        "\n",
        "def buildCityGraph(graphType): # connection of the nodes\n",
        "    g = graphType()\n",
        "    for name in ('Marikina', 'Pasig', 'Quezon', 'Pateros', 'Valenzuela', 'San Juan', 'Mandaluyong', 'Manila', 'Makati'):\n",
        "        g.addNode(Node(name))\n",
        "    g.addEdge(Edge(g.getNode('Marikina'), g.getNode('Quezon')))\n",
        "    g.addEdge(Edge(g.getNode('Marikina'), g.getNode('Pasig')))\n",
        "    g.addEdge(Edge(g.getNode('Pasig'), g.getNode('Marikina')))\n",
        "    g.addEdge(Edge(g.getNode('Pasig'), g.getNode('Mandaluyong')))\n",
        "    g.addEdge(Edge(g.getNode('Pasig'), g.getNode('Pateros')))\n",
        "    g.addEdge(Edge(g.getNode('Quezon'), g.getNode('Valenzuela')))\n",
        "    g.addEdge(Edge(g.getNode('Quezon'), g.getNode('Manila')))\n",
        "    g.addEdge(Edge(g.getNode('Quezon'), g.getNode('San Juan')))\n",
        "    g.addEdge(Edge(g.getNode('Pateros'), g.getNode('Pasig')))\n",
        "    g.addEdge(Edge(g.getNode('San Juan'), g.getNode('Mandaluyong')))\n",
        "    g.addEdge(Edge(g.getNode('Mandaluyong'), g.getNode('Manila')))\n",
        "    g.addEdge(Edge(g.getNode('Mandaluyong'), g.getNode('Pasig')))\n",
        "    g.addEdge(Edge(g.getNode('Mandaluyong'), g.getNode('Makati')))\n",
        "    g.addEdge(Edge(g.getNode('Manila'), g.getNode('Quezon')))\n",
        "    g.addEdge(Edge(g.getNode('Manila'), g.getNode('Mandaluyong')))\n",
        "    g.addEdge(Edge(g.getNode('Makati'), g.getNode('Pateros')))\n",
        "    return g\n",
        "\n",
        "def printPath(path):\n",
        "    result = ''\n",
        "    for i in range(len(path)):\n",
        "        result = result + str(path[i])\n",
        "        if i != len(path) - 1:\n",
        "            result = result + '->'\n",
        "    return result\n",
        "\n",
        "def BFS(graph, start, end, toPrint = False):\n",
        "    initPath = [start]\n",
        "    pathQueue = [initPath]\n",
        "    while len(pathQueue) != 0:\n",
        "        #Get and remove oldest element in pathQueue\n",
        "        tmpPath = pathQueue.pop(0)\n",
        "        if toPrint:\n",
        "            print('Current BFS path:', printPath(tmpPath))\n",
        "        lastNode = tmpPath[-1]\n",
        "        if lastNode == end:\n",
        "            return tmpPath\n",
        "        for nextNode in graph.childrenOf(lastNode):\n",
        "            if nextNode not in tmpPath:\n",
        "                newPath = tmpPath + [nextNode]\n",
        "                pathQueue.append(newPath)\n",
        "    return None\n",
        "\n",
        "\n",
        "def shortestPath(graph, start, end, toPrint = False):\n",
        "    return BFS(graph, start, end, toPrint)\n",
        "\n",
        "\n",
        "def testSP(source, destination):\n",
        "    g = buildCityGraph(Digraph)\n",
        "    sp = shortestPath(g, g.getNode(source), g.getNode(destination),\n",
        "                      toPrint = True)\n",
        "    if sp != None:\n",
        "        print('Shortest path from', source, 'to',\n",
        "              destination, 'is', printPath(sp))\n",
        "    else:\n",
        "        print('There is no path from', source, 'to', destination)\n",
        "\n",
        "\n",
        "testSP('Marikina','Manila')\n",
        "print('-'*100)\n",
        "testSP('Manila', 'Marikina')\n",
        "\n"
      ]
    },
    {
      "cell_type": "markdown",
      "id": "159ad18e",
      "metadata": {
        "id": "159ad18e"
      },
      "source": [
        "#**Conclusion**"
      ]
    },
    {
      "cell_type": "markdown",
      "source": [
        "DFS Method way of computing for the shortest path might take longer than the BFS Method. The difference between them is that the DFS Method compiles all the possibile route from your starting point going to your destination, we can say that the DFS Method can provide the best solution since it is the comparison of all the possible solutions/route. The BFS Method might be faster when compared to DFS Method but it does not provide the best solution, it only provides the temporary best solution because in BFS Method, once it reaches its destionation it will immediately return it."
      ],
      "metadata": {
        "id": "NBqKnyqlRuqd"
      },
      "id": "NBqKnyqlRuqd"
    }
  ],
  "metadata": {
    "kernelspec": {
      "display_name": "Python 3",
      "language": "python",
      "name": "python3"
    },
    "language_info": {
      "codemirror_mode": {
        "name": "ipython",
        "version": 3
      },
      "file_extension": ".py",
      "mimetype": "text/x-python",
      "name": "python",
      "nbconvert_exporter": "python",
      "pygments_lexer": "ipython3",
      "version": "3.7.10"
    },
    "colab": {
      "provenance": []
    }
  },
  "nbformat": 4,
  "nbformat_minor": 5
}